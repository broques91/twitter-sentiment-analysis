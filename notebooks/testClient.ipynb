{
 "cells": [
  {
   "cell_type": "code",
   "execution_count": 1,
   "id": "509c2fb0",
   "metadata": {},
   "outputs": [],
   "source": [
    "apikey=\"\"\n",
    "apikeysecret=\"\"\n",
    "beartoken=\"\"\n",
    "accestoken=\"\"\n",
    "accestokensecret=\"\""
   ]
  },
  {
   "cell_type": "code",
   "execution_count": 9,
   "id": "9f038ca6",
   "metadata": {},
   "outputs": [],
   "source": [
    "# import tweepy\n",
    "\n",
    "# client = tweepy.Client(beartoken)\n",
    "# query = ['élections législatives',\"Législatives 2022\"]\n",
    "\n",
    "# tweets = client.search_recent_tweets(query=query, tweet_fields=['context_annotations', 'created_at'], max_results=10)\n",
    "\n",
    "# for tweet in tweets.data:\n",
    "#     print(tweet.text+\"\\n\")"
   ]
  },
  {
   "cell_type": "code",
   "execution_count": 8,
   "id": "1cd074ba",
   "metadata": {},
   "outputs": [
    {
     "name": "stdout",
     "output_type": "stream",
     "text": [
      "RT @runifsubset: 🔴Entre-temps, les responsabilités sont partagées :\n",
      "\n",
      "1° Kabila, Nangaa et Tshisekedi n'étaient pas obligés de tricher les é…\n",
      "RT @AQuatennens: Ils ne savent pas organiser un match de foot. Ils ne savent pas organiser des élections. Ils ne savent pas bloquer les pri…\n",
      "RT @SZYCH1: Nathalie Szych (Les Patriotes) défend une France « libre et souveraine  »\n",
      "https://t.co/A6OIiETrWc\n",
      "RT @megalumbala5: M. KATUMBI depuis qu'il a déposé une gerbe de fleurs au mémorial du génocide rwandais n'ose même pas taguer @PaulKagame a…\n",
      "RT @mbompard: Révolte au ministère des affaires étrangères, flop de la finale de la Ligue des Champions, fiasco de l’organisation des élect…\n",
      "Exactement comme à la FI, la question de la laïcité a été traitée à LREM par à-coup, sans véritable débat.\n",
      "Les limi… https://t.co/sKt2NNI0GQ\n",
      "RT @iflorennes92: En route pour les 5 prochaines années ? #AvecVous, avec votre confiance 😉🚴🏼‍♀️Découvrez l'initiative pour #UneAssembléeVé…\n",
      "@lb807 @fmomboisse La mauvaise foi des adeptes de la secte… c’est évident que depuis le début il sait pertinemment… https://t.co/jSIOerUksv\n",
      "RT @sylvainrichart1: @RetrieverLe Il est descendu a 7% de part le même jeu de manche qui a fait passer Macron au 2eme tour, le trucage des…\n",
      "RT @Ugobernalicis: Nous, professionnels du travail social et candidats de la #NUPES aux élections législatives, appelons à la mobilisation…\n",
      "RT @MarijkeFontene1: @RetrieverLe Sondages manipulés, probablement en 2017 aussi.\n",
      "Élections bi don comme aux us, même logiciel.\n",
      "RT @JLMelenchon: Combines et incompétences : la macronie a un gros problème avec la démocratie.\n",
      "https://t.co/7pnlby9tWH\n",
      "RT @Dati_Punchlines: #RachidaDati très en forme en commentant l’absentéisme record d’#AnneHidalgo : « Votre présence est aussi anecdotique…\n",
      "RT @WeillClaude: Retour de bâton  https://t.co/0nXK96tcRH\n",
      "RT @MaxettePirbakas: Pour les élections législatives, je soutiendrai M. Fauvert Savan dans la 3ème circonscription de Guadeloupe. Mon commu…\n"
     ]
    }
   ],
   "source": [
    "# for tweet in api.search_tweets('elections', lang='fr'):\n",
    "#     print(tweet.text)"
   ]
  },
  {
   "cell_type": "code",
   "execution_count": null,
   "id": "4fb87cc8",
   "metadata": {},
   "outputs": [],
   "source": [
    "import tweepy\n",
    "from kafka import KafkaProducer\n",
    "import logging\n",
    "\n",
    "\"\"\"API ACCESS KEYS\"\"\"\n",
    "\n",
    "consumerKey = apikey\n",
    "consumerSecret = apikeysecret\n",
    "accessToken = accestoken\n",
    "accessTokenSecret = accestokensecret\n",
    "\n",
    "producer = KafkaProducer(bootstrap_servers=['localhost:9092', 'localhost:9093', 'localhost:9094'])\n",
    "topic_name = 'twitter'\n",
    "\n",
    "auth = tweepy.OAuthHandler(consumerKey, consumerSecret)\n",
    "auth.set_access_token(accessToken, accessTokenSecret)\n",
    "api = tweepy.API(auth)\n",
    "for tweet in api.search_tweets('elections', lang='fr'):\n",
    "    producer.send(topic_name, tweet.text.encode('utf-8'))\n"
   ]
  },
  {
   "cell_type": "code",
   "execution_count": null,
   "id": "0e150a87",
   "metadata": {},
   "outputs": [
    {
     "name": "stdout",
     "output_type": "stream",
     "text": [
      "fdds\n",
      "RT @FTarlet: Le vote à l'étranger est déjà un énorme fiasco qui pue la manipulation: vote par internet obligatoire, un bug qui empêche de v…\n",
      "RT @Dati_Punchlines: #RachidaDati très en forme en commentant l’absentéisme record d’#AnneHidalgo : « Votre présence est aussi anecdotique…\n",
      "RT @Elwhylamya2: Vous appelez cela des élections équitables, ça sent la magouille à plein nez.\n",
      "\n",
      "Pour une majorité il n’y a pas de quoi être…\n",
      "RT @oliviagregoire: La NUPES, c’est se partager les circonscriptions sans partager aucune conviction commune : c’est les postes avant les F…\n",
      "RT @AQuatennens: Ils ne savent pas organiser un match de foot. Ils ne savent pas organiser des élections. Ils ne savent pas bloquer les pri…\n",
      "RT @VouaRV: Vous souhaitez déjà lire la Profession de Foi de notre candidat @vacquer (ses idée politiques et ses propositions en tant que d…\n",
      "RT @BastienThierry4: @le_Parisien Le bouclier énergie c'était avant les élections  après c'est le rattrapage de la facture. \n",
      "\n",
      "scénario conn…\n",
      "RT @NPA_officiel: Soutien aux candidatEs de rupture de la NUPES, candidatures autonomes contre le social-libéralisme: le positionnement du…\n",
      "#Legislatives2022  Jean-Paul Bret, un soutien de poids pour Katia Buisson (PRG) dans la 6e circonscription https://t.co/wQjttiKqQ7\n",
      "@74Pat1 @AQuatennens Il a raison @AQuatennens ! Organisons des élections à la sauce stalinienne ! 😂😂\n",
      "RT @UnionpopLozere: Sandrine Descaves ✌️ a participé ce lundi au débat en vue des élections #legislatives2022 en #Lozère organisés par @Mid…\n",
      "RT @lemondefr: Le Printemps républicain et ses alliés idéologiques espéraient voir leur loyauté récompensée. Leurs espoirs ont été déçus. #…\n",
      "RT @AneriesPR: Selon Gilles Clavreul (Printemps républicain), @lemondefr «cancane»\n",
      "🤔\n",
      "https://t.co/c6ObvrPvM1 https://t.co/MVV6XZIJ9b\n",
      "RT @Dati_Punchlines: #RachidaDati très en forme en commentant l’absentéisme record d’#AnneHidalgo : « Votre présence est aussi anecdotique…\n",
      "RT @PaulPlamondon: La suite est de prétendre que si on recommence le même manège après les élections, le résultat sera différent parce qu’o…\n",
      "yyy\n"
     ]
    }
   ],
   "source": [
    "\n",
    "from kafka import KafkaConsumer\n",
    "import json\n",
    "\n",
    "topic_name = 'twitter'\n",
    "\n",
    "consumer = KafkaConsumer(\n",
    "    topic_name,\n",
    "     bootstrap_servers=['localhost:9092', 'localhost:9093', 'localhost:9094'])\n",
    "\n",
    "for message in consumer:\n",
    "    tweets = message.value\n",
    "    print(tweets.decode('utf-8'))"
   ]
  }
 ],
 "metadata": {
  "kernelspec": {
   "display_name": "Python 3 (ipykernel)",
   "language": "python",
   "name": "python3"
  },
  "language_info": {
   "codemirror_mode": {
    "name": "ipython",
    "version": 3
   },
   "file_extension": ".py",
   "mimetype": "text/x-python",
   "name": "python",
   "nbconvert_exporter": "python",
   "pygments_lexer": "ipython3",
   "version": "3.8.13"
  }
 },
 "nbformat": 4,
 "nbformat_minor": 5
}
